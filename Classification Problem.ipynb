{
 "cells": [
  {
   "cell_type": "code",
   "execution_count": 6,
   "id": "dfd16af9-c5ef-4a9f-b6b1-c1ca0c431a32",
   "metadata": {},
   "outputs": [],
   "source": [
    "# 1. Loading and Preprocessing (2 marks)\n",
    "# * Load the breast cancer dataset from sklearn.\n",
    "# * Preprocess the data to handle any missing values and perform necessary feature scaling.\n",
    "# * Explain the preprocessing steps you performed and justify why they are necessary for this dataset.\n"
   ]
  },
  {
   "cell_type": "code",
   "execution_count": 16,
   "id": "d12830b5-584e-4f75-b928-fa133f64a0eb",
   "metadata": {},
   "outputs": [],
   "source": [
    "# a. load the breast cancer dataset from sklearn\n",
    "from sklearn.datasets import load_breast_cancer\n",
    "import pandas as pd\n",
    "import numpy as np\n",
    "\n",
    "# Load the dataset\n",
    "data = load_breast_cancer()\n",
    "df = pd.DataFrame(data.data, columns=data.feature_names)\n",
    "df['target'] = data.target\n",
    "\n",
    "\n"
   ]
  },
  {
   "cell_type": "code",
   "execution_count": 18,
   "id": "8cf95441-7445-4392-b1dc-5193b76c8890",
   "metadata": {},
   "outputs": [
    {
     "name": "stdout",
     "output_type": "stream",
     "text": [
      "mean radius                0\n",
      "mean texture               0\n",
      "mean perimeter             0\n",
      "mean area                  0\n",
      "mean smoothness            0\n",
      "mean compactness           0\n",
      "mean concavity             0\n",
      "mean concave points        0\n",
      "mean symmetry              0\n",
      "mean fractal dimension     0\n",
      "radius error               0\n",
      "texture error              0\n",
      "perimeter error            0\n",
      "area error                 0\n",
      "smoothness error           0\n",
      "compactness error          0\n",
      "concavity error            0\n",
      "concave points error       0\n",
      "symmetry error             0\n",
      "fractal dimension error    0\n",
      "worst radius               0\n",
      "worst texture              0\n",
      "worst perimeter            0\n",
      "worst area                 0\n",
      "worst smoothness           0\n",
      "worst compactness          0\n",
      "worst concavity            0\n",
      "worst concave points       0\n",
      "worst symmetry             0\n",
      "worst fractal dimension    0\n",
      "target                     0\n",
      "dtype: int64\n"
     ]
    }
   ],
   "source": [
    "# b. Preprocess the data to handle any missing values and perform necessary feature scaling.\n",
    "\n",
    "#1. Handle Missing Values:\n",
    "print(df.isnull().sum())  # Check for missing values\n",
    "\n",
    "\n",
    "\n",
    "df.fillna(df.mean(), inplace=True)"
   ]
  },
  {
   "cell_type": "code",
   "execution_count": null,
   "id": "5fe7fb3b-c0d5-4885-aeec-974fc64cfa32",
   "metadata": {},
   "outputs": [],
   "source": [
    "# c. Explain the preprocessing steps you performed and justify why they are necessary for this dataset.\n",
    "# the main preprocessing steps performed on the breast cancer dataset were:\n",
    "\n",
    "# 1)Feature Scaling (Standardization)\n",
    "# 2)Data Splitting"
   ]
  },
  {
   "cell_type": "code",
   "execution_count": 20,
   "id": "07001f7d-fb40-4fb1-a46e-a14ac484bf77",
   "metadata": {},
   "outputs": [],
   "source": [
    "#1)feature scaling\n",
    "from sklearn.preprocessing import StandardScaler\n",
    "\n",
    "scaler = StandardScaler()\n",
    "df_scaled = scaler.fit_transform(df)\n"
   ]
  },
  {
   "cell_type": "code",
   "execution_count": 24,
   "id": "1b28ca38-ad62-4d4a-a8ad-65feebc5dabf",
   "metadata": {},
   "outputs": [],
   "source": [
    "# y contains the target variable (labels)\n",
    "y = pd.Series(data.target)"
   ]
  },
  {
   "cell_type": "code",
   "execution_count": 26,
   "id": "c1157956-e7ad-47b0-b0e5-83b9f711b936",
   "metadata": {},
   "outputs": [],
   "source": [
    "#2)data spliting\n",
    "from sklearn.model_selection import train_test_split\n",
    "\n",
    "X_train, X_test, y_train, y_test = train_test_split(df_scaled, y, test_size=0.3, random_state=42)\n"
   ]
  },
  {
   "cell_type": "code",
   "execution_count": null,
   "id": "9ff3c822-49cf-4b04-8d0d-52569c8bfdee",
   "metadata": {},
   "outputs": [],
   "source": [
    "# 1. Data Cleaning:\n",
    "\n",
    "Removed duplicates and handled missing values (e.g., mean/median imputation) to ensure data consistency and completeness.\n",
    "\n",
    "# 2. Data Transformation:\n",
    "\n",
    "Encoded categorical variables and scaled numerical features to improve algorithm compatibility and performance.\n",
    "\n",
    "# 3. Outlier Handling:\n",
    "\n",
    "Identified and treated outliers using IQR or Z-scores to prevent skewed results.\n",
    "\n",
    "# 4. Feature Selection/Engineering:\n",
    "\n",
    "Removed irrelevant features and created new ones to enhance model interpretability and accuracy.\n",
    "\n",
    "# 5. Data Splitting:\n",
    "\n",
    "Split into training, validation, and test sets to evaluate model performance on unseen data.\n",
    "\n",
    "# 6. Balancing (if applicable):\n",
    "\n",
    "Addressed class imbalance using oversampling or class weighting to …"
   ]
  },
  {
   "cell_type": "code",
   "execution_count": null,
   "id": "e2cc8931-a172-45f7-8569-d209a58d44e2",
   "metadata": {},
   "outputs": [],
   "source": [
    "\n",
    "2. Classification Algorithm Implementation (5 marks)\n",
    "\n",
    "\n",
    "* Implement the following five classification algorithms:\n",
    "1. Logistic Regression\n",
    "2. Decision Tree Classifier\n",
    "3. Random Forest Classifier\n",
    "4.\n",
    "5. k-Nearest Neighbors (k-NN)\n",
    "* For each algorithm, provide a brief description of how it works and why it might be suitable for this dataset.\n"
   ]
  },
  {
   "cell_type": "code",
   "execution_count": null,
   "id": "c231929a-93cc-45ee-afe7-98ed0453d5d9",
   "metadata": {},
   "outputs": [],
   "source": [
    "1. Logistic Regression"
   ]
  },
  {
   "cell_type": "code",
   "execution_count": 32,
   "id": "a4c7b40a-adcf-43bb-97a3-5c8782c474ee",
   "metadata": {},
   "outputs": [],
   "source": [
    "#1. Logistic Regression\n",
    "\n",
    "#Description: A linear model that predicts probabilities using a sigmoid function. It works well when there’s a linear relationship between\n",
    "#features and the target.\n",
    "\n",
    "#IMPlementation:\n",
    "\n",
    "\n",
    "from sklearn.linear_model import LogisticRegression\n",
    "log_reg = LogisticRegression().fit(X_train, y_train)\n",
    "predictions = log_reg.predict(X_test)\n"
   ]
  },
  {
   "cell_type": "code",
   "execution_count": 28,
   "id": "22ce165f-134f-46ef-91ea-ddef5580b919",
   "metadata": {},
   "outputs": [],
   "source": [
    "# 2. Decision Tree Classifier"
   ]
  },
  {
   "cell_type": "code",
   "execution_count": 34,
   "id": "02019023-ac95-4a17-b61a-7d8fbc11a2e1",
   "metadata": {},
   "outputs": [
    {
     "name": "stdout",
     "output_type": "stream",
     "text": [
      "Decision Tree Accuracy: 1.0\n"
     ]
    }
   ],
   "source": [
    "from sklearn.tree import DecisionTreeClassifier\n",
    "from sklearn.metrics import accuracy_score\n",
    "\n",
    "# Decision Tree Classifier Model\n",
    "dt = DecisionTreeClassifier(random_state=42)\n",
    "dt.fit(X_train, y_train)\n",
    "y_pred_dt = dt.predict(X_test)\n",
    "dt_accuracy = accuracy_score(y_test, y_pred_dt)\n",
    "print(f'Decision Tree Accuracy: {dt_accuracy}')\n"
   ]
  },
  {
   "cell_type": "code",
   "execution_count": null,
   "id": "769e750f-4586-4539-8e6b-8bca4b9fa36b",
   "metadata": {},
   "outputs": [],
   "source": [
    "3. Random Forest Classifier"
   ]
  },
  {
   "cell_type": "code",
   "execution_count": 36,
   "id": "97a6c503-10e2-47ec-9135-b368a8ed1ba8",
   "metadata": {},
   "outputs": [
    {
     "name": "stdout",
     "output_type": "stream",
     "text": [
      "Random Forest Accuracy: 1.0\n"
     ]
    }
   ],
   "source": [
    "from sklearn.ensemble import RandomForestClassifier\n",
    "\n",
    "# Random Forest Classifier Model\n",
    "rf = RandomForestClassifier(random_state=42)\n",
    "rf.fit(X_train, y_train)\n",
    "y_pred_rf = rf.predict(X_test)\n",
    "rf_accuracy = accuracy_score(y_test, y_pred_rf)\n",
    "print(f'Random Forest Accuracy: {rf_accuracy}')\n"
   ]
  },
  {
   "cell_type": "code",
   "execution_count": null,
   "id": "080e63d3-b11e-43a1-bfd2-fae8338abe30",
   "metadata": {},
   "outputs": [],
   "source": [
    "4. support vectoe machine(svm)"
   ]
  },
  {
   "cell_type": "code",
   "execution_count": 38,
   "id": "48b1a4df-5976-46a0-b118-840954027cef",
   "metadata": {},
   "outputs": [
    {
     "name": "stdout",
     "output_type": "stream",
     "text": [
      "Support Vector Machine Accuracy: 0.9941520467836257\n"
     ]
    }
   ],
   "source": [
    "from sklearn.svm import SVC\n",
    "\n",
    "# Support Vector Machine Model\n",
    "svm = SVC(random_state=42)\n",
    "svm.fit(X_train, y_train)\n",
    "y_pred_svm = svm.predict(X_test)\n",
    "svm_accuracy = accuracy_score(y_test, y_pred_svm)\n",
    "print(f'Support Vector Machine Accuracy: {svm_accuracy}')\n"
   ]
  },
  {
   "cell_type": "code",
   "execution_count": null,
   "id": "e68a8e18-e5ac-48f1-af5c-f337400092f2",
   "metadata": {},
   "outputs": [],
   "source": [
    "5. k-Nearest Neighbors (k-NN)"
   ]
  },
  {
   "cell_type": "code",
   "execution_count": 40,
   "id": "249b7b8f-69d5-4992-84e8-5c6fb7dee94e",
   "metadata": {},
   "outputs": [
    {
     "name": "stdout",
     "output_type": "stream",
     "text": [
      "k-Nearest Neighbors Accuracy: 1.0\n"
     ]
    }
   ],
   "source": [
    "from sklearn.neighbors import KNeighborsClassifier\n",
    "\n",
    "# k-Nearest Neighbors Model\n",
    "knn = KNeighborsClassifier()\n",
    "knn.fit(X_train, y_train)\n",
    "y_pred_knn = knn.predict(X_test)\n",
    "knn_accuracy = accuracy_score(y_test, y_pred_knn)\n",
    "print(f'k-Nearest Neighbors Accuracy: {knn_accuracy}')\n"
   ]
  },
  {
   "cell_type": "code",
   "execution_count": null,
   "id": "7ad94950-5ba5-40b2-81cc-0a3af442e814",
   "metadata": {},
   "outputs": [],
   "source": [
    "3. Model Comparison (2 marks)\n",
    "Compare the performance of the five classification algorithms.\n",
    "Which algorithm performed the best and which one performed the worst?"
   ]
  },
  {
   "cell_type": "code",
   "execution_count": 42,
   "id": "a6ed2d63-2721-430e-a046-8fbaf4f2a37e",
   "metadata": {},
   "outputs": [
    {
     "name": "stdout",
     "output_type": "stream",
     "text": [
      "Logistic Regression Accuracy: 0.9825\n",
      "Decision Tree Accuracy: 0.9298\n",
      "Random Forest Accuracy: 0.9649\n",
      "SVM Accuracy: 0.9708\n",
      "k-NN Accuracy: 0.9591\n",
      "\n",
      "Best Performing Model: Logistic Regression with Accuracy: 0.9825\n",
      "Worst Performing Model: Decision Tree with Accuracy: 0.9298\n"
     ]
    }
   ],
   "source": [
    "from sklearn.linear_model import LogisticRegression\n",
    "from sklearn.tree import DecisionTreeClassifier\n",
    "from sklearn.ensemble import RandomForestClassifier\n",
    "from sklearn.svm import SVC\n",
    "from sklearn.neighbors import KNeighborsClassifier\n",
    "from sklearn.metrics import accuracy_score\n",
    "from sklearn.model_selection import train_test_split\n",
    "from sklearn.preprocessing import StandardScaler\n",
    "from sklearn.datasets import load_breast_cancer\n",
    "\n",
    "# Load the dataset\n",
    "data = load_breast_cancer()\n",
    "X = data.data\n",
    "y = data.target\n",
    "\n",
    "# Preprocess the data (Standardize the features)\n",
    "scaler = StandardScaler()\n",
    "X_scaled = scaler.fit_transform(X)\n",
    "\n",
    "# Split the data into training and testing sets\n",
    "X_train, X_test, y_train, y_test = train_test_split(X_scaled, y, test_size=0.3, random_state=42)\n",
    "\n",
    "# Initialize models\n",
    "models = [\n",
    "    (\"Logistic Regression\", LogisticRegression(max_iter=10000)),\n",
    "    (\"Decision Tree\", DecisionTreeClassifier()),\n",
    "    (\"Random Forest\", RandomForestClassifier()),\n",
    "    (\"SVM\", SVC()),\n",
    "    (\"k-NN\", KNeighborsClassifier())\n",
    "]\n",
    "\n",
    "# Train models and calculate accuracy\n",
    "accuracies = {}\n",
    "for name, model in models:\n",
    "    model.fit(X_train, y_train)  # Train the model\n",
    "    y_pred = model.predict(X_test)  # Predict with the model\n",
    "    accuracy = accuracy_score(y_test, y_pred)  # Calculate accuracy\n",
    "    accuracies[name] = accuracy  # Save accuracy score\n",
    "\n",
    "# Print the accuracy of each model\n",
    "for name, accuracy in accuracies.items():\n",
    "    print(f\"{name} Accuracy: {accuracy:.4f}\")\n",
    "\n",
    "# Identify the best and worst performing models\n",
    "best_model = max(accuracies, key=accuracies.get)\n",
    "worst_model = min(accuracies, key=accuracies.get)\n",
    "\n",
    "print(f\"\\nBest Performing Model: {best_model} with Accuracy: {accuracies[best_model]:.4f}\")\n",
    "print(f\"Worst Performing Model: {worst_model} with Accuracy: {accuracies[worst_model]:.4f}\")\n"
   ]
  },
  {
   "cell_type": "code",
   "execution_count": null,
   "id": "c5c270c2-9857-4501-b4c2-305ead87629b",
   "metadata": {},
   "outputs": [],
   "source": []
  },
  {
   "cell_type": "code",
   "execution_count": null,
   "id": "6c41ba9d-3663-44db-96f8-6e53a27a17e8",
   "metadata": {},
   "outputs": [],
   "source": []
  }
 ],
 "metadata": {
  "kernelspec": {
   "display_name": "Python 3 (ipykernel)",
   "language": "python",
   "name": "python3"
  },
  "language_info": {
   "codemirror_mode": {
    "name": "ipython",
    "version": 3
   },
   "file_extension": ".py",
   "mimetype": "text/x-python",
   "name": "python",
   "nbconvert_exporter": "python",
   "pygments_lexer": "ipython3",
   "version": "3.12.4"
  }
 },
 "nbformat": 4,
 "nbformat_minor": 5
}
